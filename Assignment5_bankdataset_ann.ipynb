{
 "cells": [
  {
   "cell_type": "code",
   "execution_count": 1,
   "metadata": {},
   "outputs": [],
   "source": [
    "import numpy as np\n",
    "import pandas as pd"
   ]
  },
  {
   "cell_type": "code",
   "execution_count": 2,
   "metadata": {},
   "outputs": [],
   "source": [
    "dataset = pd.read_csv(r\"C:\\Users\\rieta\\OneDrive\\Documents\\bank.csv\")"
   ]
  },
  {
   "cell_type": "code",
   "execution_count": 3,
   "metadata": {},
   "outputs": [
    {
     "data": {
      "text/html": [
       "<div>\n",
       "<style scoped>\n",
       "    .dataframe tbody tr th:only-of-type {\n",
       "        vertical-align: middle;\n",
       "    }\n",
       "\n",
       "    .dataframe tbody tr th {\n",
       "        vertical-align: top;\n",
       "    }\n",
       "\n",
       "    .dataframe thead th {\n",
       "        text-align: right;\n",
       "    }\n",
       "</style>\n",
       "<table border=\"1\" class=\"dataframe\">\n",
       "  <thead>\n",
       "    <tr style=\"text-align: right;\">\n",
       "      <th></th>\n",
       "      <th>age</th>\n",
       "      <th>job</th>\n",
       "      <th>marital</th>\n",
       "      <th>education</th>\n",
       "      <th>default</th>\n",
       "      <th>balance</th>\n",
       "      <th>housing</th>\n",
       "      <th>loan</th>\n",
       "      <th>contact</th>\n",
       "      <th>day</th>\n",
       "      <th>month</th>\n",
       "      <th>duration</th>\n",
       "      <th>campaign</th>\n",
       "      <th>pdays</th>\n",
       "      <th>previous</th>\n",
       "      <th>poutcome</th>\n",
       "      <th>deposit</th>\n",
       "    </tr>\n",
       "  </thead>\n",
       "  <tbody>\n",
       "    <tr>\n",
       "      <th>0</th>\n",
       "      <td>59</td>\n",
       "      <td>admin.</td>\n",
       "      <td>married</td>\n",
       "      <td>secondary</td>\n",
       "      <td>no</td>\n",
       "      <td>2343</td>\n",
       "      <td>yes</td>\n",
       "      <td>no</td>\n",
       "      <td>unknown</td>\n",
       "      <td>5</td>\n",
       "      <td>may</td>\n",
       "      <td>1042</td>\n",
       "      <td>1</td>\n",
       "      <td>-1</td>\n",
       "      <td>0</td>\n",
       "      <td>unknown</td>\n",
       "      <td>yes</td>\n",
       "    </tr>\n",
       "    <tr>\n",
       "      <th>1</th>\n",
       "      <td>56</td>\n",
       "      <td>admin.</td>\n",
       "      <td>married</td>\n",
       "      <td>secondary</td>\n",
       "      <td>no</td>\n",
       "      <td>45</td>\n",
       "      <td>no</td>\n",
       "      <td>no</td>\n",
       "      <td>unknown</td>\n",
       "      <td>5</td>\n",
       "      <td>may</td>\n",
       "      <td>1467</td>\n",
       "      <td>1</td>\n",
       "      <td>-1</td>\n",
       "      <td>0</td>\n",
       "      <td>unknown</td>\n",
       "      <td>yes</td>\n",
       "    </tr>\n",
       "    <tr>\n",
       "      <th>2</th>\n",
       "      <td>41</td>\n",
       "      <td>technician</td>\n",
       "      <td>married</td>\n",
       "      <td>secondary</td>\n",
       "      <td>no</td>\n",
       "      <td>1270</td>\n",
       "      <td>yes</td>\n",
       "      <td>no</td>\n",
       "      <td>unknown</td>\n",
       "      <td>5</td>\n",
       "      <td>may</td>\n",
       "      <td>1389</td>\n",
       "      <td>1</td>\n",
       "      <td>-1</td>\n",
       "      <td>0</td>\n",
       "      <td>unknown</td>\n",
       "      <td>yes</td>\n",
       "    </tr>\n",
       "    <tr>\n",
       "      <th>3</th>\n",
       "      <td>55</td>\n",
       "      <td>services</td>\n",
       "      <td>married</td>\n",
       "      <td>secondary</td>\n",
       "      <td>no</td>\n",
       "      <td>2476</td>\n",
       "      <td>yes</td>\n",
       "      <td>no</td>\n",
       "      <td>unknown</td>\n",
       "      <td>5</td>\n",
       "      <td>may</td>\n",
       "      <td>579</td>\n",
       "      <td>1</td>\n",
       "      <td>-1</td>\n",
       "      <td>0</td>\n",
       "      <td>unknown</td>\n",
       "      <td>yes</td>\n",
       "    </tr>\n",
       "    <tr>\n",
       "      <th>4</th>\n",
       "      <td>54</td>\n",
       "      <td>admin.</td>\n",
       "      <td>married</td>\n",
       "      <td>tertiary</td>\n",
       "      <td>no</td>\n",
       "      <td>184</td>\n",
       "      <td>no</td>\n",
       "      <td>no</td>\n",
       "      <td>unknown</td>\n",
       "      <td>5</td>\n",
       "      <td>may</td>\n",
       "      <td>673</td>\n",
       "      <td>2</td>\n",
       "      <td>-1</td>\n",
       "      <td>0</td>\n",
       "      <td>unknown</td>\n",
       "      <td>yes</td>\n",
       "    </tr>\n",
       "  </tbody>\n",
       "</table>\n",
       "</div>"
      ],
      "text/plain": [
       "   age         job  marital  education default  balance housing loan  contact  \\\n",
       "0   59      admin.  married  secondary      no     2343     yes   no  unknown   \n",
       "1   56      admin.  married  secondary      no       45      no   no  unknown   \n",
       "2   41  technician  married  secondary      no     1270     yes   no  unknown   \n",
       "3   55    services  married  secondary      no     2476     yes   no  unknown   \n",
       "4   54      admin.  married   tertiary      no      184      no   no  unknown   \n",
       "\n",
       "   day month  duration  campaign  pdays  previous poutcome deposit  \n",
       "0    5   may      1042         1     -1         0  unknown     yes  \n",
       "1    5   may      1467         1     -1         0  unknown     yes  \n",
       "2    5   may      1389         1     -1         0  unknown     yes  \n",
       "3    5   may       579         1     -1         0  unknown     yes  \n",
       "4    5   may       673         2     -1         0  unknown     yes  "
      ]
     },
     "execution_count": 3,
     "metadata": {},
     "output_type": "execute_result"
    }
   ],
   "source": [
    "dataset.head()"
   ]
  },
  {
   "cell_type": "code",
   "execution_count": 4,
   "metadata": {},
   "outputs": [
    {
     "data": {
      "text/plain": [
       "age          False\n",
       "job          False\n",
       "marital      False\n",
       "education    False\n",
       "default      False\n",
       "balance      False\n",
       "housing      False\n",
       "loan         False\n",
       "contact      False\n",
       "day          False\n",
       "month        False\n",
       "duration     False\n",
       "campaign     False\n",
       "pdays        False\n",
       "previous     False\n",
       "poutcome     False\n",
       "deposit      False\n",
       "dtype: bool"
      ]
     },
     "execution_count": 4,
     "metadata": {},
     "output_type": "execute_result"
    }
   ],
   "source": [
    "dataset.isnull().any()"
   ]
  },
  {
   "cell_type": "code",
   "execution_count": 5,
   "metadata": {},
   "outputs": [],
   "source": [
    "i = dataset.iloc[:,0:16].values\n",
    "o = dataset.iloc[:,16:17].values"
   ]
  },
  {
   "cell_type": "code",
   "execution_count": 6,
   "metadata": {},
   "outputs": [
    {
     "data": {
      "text/plain": [
       "(11162, 16)"
      ]
     },
     "execution_count": 6,
     "metadata": {},
     "output_type": "execute_result"
    }
   ],
   "source": [
    "i.shape"
   ]
  },
  {
   "cell_type": "code",
   "execution_count": 7,
   "metadata": {},
   "outputs": [
    {
     "data": {
      "text/plain": [
       "(11162, 1)"
      ]
     },
     "execution_count": 7,
     "metadata": {},
     "output_type": "execute_result"
    }
   ],
   "source": [
    "o.shape"
   ]
  },
  {
   "cell_type": "code",
   "execution_count": 8,
   "metadata": {},
   "outputs": [],
   "source": [
    "from sklearn.preprocessing import OneHotEncoder\n",
    "from sklearn.compose import ColumnTransformer"
   ]
  },
  {
   "cell_type": "code",
   "execution_count": 9,
   "metadata": {},
   "outputs": [],
   "source": [
    "ct = ColumnTransformer([('one', OneHotEncoder(), [1,2,3,4,6,7,8,10,15])], remainder = 'passthrough')\n",
    "i = ct.fit_transform(i)"
   ]
  },
  {
   "cell_type": "code",
   "execution_count": 10,
   "metadata": {},
   "outputs": [
    {
     "data": {
      "text/plain": [
       "(11162, 51)"
      ]
     },
     "execution_count": 10,
     "metadata": {},
     "output_type": "execute_result"
    }
   ],
   "source": [
    "i.shape"
   ]
  },
  {
   "cell_type": "code",
   "execution_count": 11,
   "metadata": {},
   "outputs": [],
   "source": [
    "ct1 = ColumnTransformer([('one', OneHotEncoder(), [0])], remainder = 'passthrough')\n",
    "o = ct1.fit_transform(o)"
   ]
  },
  {
   "cell_type": "code",
   "execution_count": 12,
   "metadata": {},
   "outputs": [
    {
     "data": {
      "text/plain": [
       "(11162, 2)"
      ]
     },
     "execution_count": 12,
     "metadata": {},
     "output_type": "execute_result"
    }
   ],
   "source": [
    "o.shape"
   ]
  },
  {
   "cell_type": "code",
   "execution_count": 13,
   "metadata": {},
   "outputs": [],
   "source": [
    "from sklearn.model_selection import train_test_split\n",
    "i_train,i_test,o_train,o_test = train_test_split(i,o,test_size = 0.2,random_state = 0)"
   ]
  },
  {
   "cell_type": "code",
   "execution_count": 14,
   "metadata": {},
   "outputs": [
    {
     "name": "stdout",
     "output_type": "stream",
     "text": [
      "(11162, 51) input shape\n",
      "(11162, 2) output shape\n",
      "(8929, 51) input_train shape\n",
      "(2233, 51) input_test shape\n",
      "(8929, 2) output_train shape\n",
      "(2233, 2) output_test shape\n"
     ]
    }
   ],
   "source": [
    "print(i.shape,\"input shape\")\n",
    "print(o.shape,\"output shape\")\n",
    "print(i_train.shape,\"input_train shape\")\n",
    "print(i_test.shape,\"input_test shape\")\n",
    "print(o_train.shape,\"output_train shape\")\n",
    "print(o_test.shape,\"output_test shape\")"
   ]
  },
  {
   "cell_type": "code",
   "execution_count": 15,
   "metadata": {},
   "outputs": [],
   "source": [
    "from sklearn.preprocessing import StandardScaler"
   ]
  },
  {
   "cell_type": "code",
   "execution_count": 16,
   "metadata": {},
   "outputs": [],
   "source": [
    "s = StandardScaler()\n",
    "i_train = s.fit_transform(i_train)\n",
    "i_test = s.fit_transform(i_test)"
   ]
  },
  {
   "cell_type": "markdown",
   "metadata": {},
   "source": [
    "# ANN modeling on Bank dataset"
   ]
  },
  {
   "cell_type": "code",
   "execution_count": 17,
   "metadata": {},
   "outputs": [],
   "source": [
    "from tensorflow.keras.models import Sequential\n",
    "from tensorflow.keras.layers import Dense"
   ]
  },
  {
   "cell_type": "code",
   "execution_count": 18,
   "metadata": {},
   "outputs": [],
   "source": [
    "bank = Sequential()"
   ]
  },
  {
   "cell_type": "code",
   "execution_count": 19,
   "metadata": {},
   "outputs": [
    {
     "name": "stdout",
     "output_type": "stream",
     "text": [
      "WARNING:tensorflow:From C:\\Users\\rieta\\Anaconda3\\lib\\site-packages\\tensorflow\\python\\keras\\initializers.py:119: calling RandomUniform.__init__ (from tensorflow.python.ops.init_ops) with dtype is deprecated and will be removed in a future version.\n",
      "Instructions for updating:\n",
      "Call initializer instance with the dtype argument instead of passing it to the constructor\n"
     ]
    }
   ],
   "source": [
    "bank.add(Dense(units= 51 , kernel_initializer =\"random_uniform\", activation = \"relu\"))"
   ]
  },
  {
   "cell_type": "code",
   "execution_count": 20,
   "metadata": {},
   "outputs": [],
   "source": [
    "bank.add(Dense(units= 110 , kernel_initializer =\"random_uniform\", activation = \"relu\")) #hidden layer1"
   ]
  },
  {
   "cell_type": "code",
   "execution_count": 21,
   "metadata": {},
   "outputs": [],
   "source": [
    "bank.add(Dense(units= 110 , kernel_initializer =\"random_uniform\", activation = \"relu\")) #hidden layer2"
   ]
  },
  {
   "cell_type": "code",
   "execution_count": 22,
   "metadata": {},
   "outputs": [],
   "source": [
    "bank.add(Dense(units= 2 , kernel_initializer =\"random_uniform\", activation = \"softmax\"))"
   ]
  },
  {
   "cell_type": "code",
   "execution_count": 23,
   "metadata": {},
   "outputs": [],
   "source": [
    "bank.compile(optimizer = \"adam\", loss=\"categorical_crossentropy\", metrics = [\"accuracy\"])"
   ]
  },
  {
   "cell_type": "code",
   "execution_count": 24,
   "metadata": {},
   "outputs": [
    {
     "name": "stdout",
     "output_type": "stream",
     "text": [
      "Epoch 1/200\n",
      "8929/8929 [==============================] - 1s 85us/sample - loss: 0.4431 - acc: 0.7945\n",
      "Epoch 2/200\n",
      "8929/8929 [==============================] - 0s 47us/sample - loss: 0.3561 - acc: 0.8521\n",
      "Epoch 3/200\n",
      "8929/8929 [==============================] - 0s 46us/sample - loss: 0.3421 - acc: 0.8583\n",
      "Epoch 4/200\n",
      "8929/8929 [==============================] - 0s 49us/sample - loss: 0.3308 - acc: 0.8621\n",
      "Epoch 5/200\n",
      "8929/8929 [==============================] - 0s 48us/sample - loss: 0.3247 - acc: 0.8663\n",
      "Epoch 6/200\n",
      "8929/8929 [==============================] - 0s 49us/sample - loss: 0.3168 - acc: 0.8674\n",
      "Epoch 7/200\n",
      "8929/8929 [==============================] - 0s 54us/sample - loss: 0.3110 - acc: 0.8717\n",
      "Epoch 8/200\n",
      "8929/8929 [==============================] - 0s 49us/sample - loss: 0.3037 - acc: 0.8740\n",
      "Epoch 9/200\n",
      "8929/8929 [==============================] - 0s 47us/sample - loss: 0.3011 - acc: 0.8767\n",
      "Epoch 10/200\n",
      "8929/8929 [==============================] - 0s 46us/sample - loss: 0.2927 - acc: 0.8805\n",
      "Epoch 11/200\n",
      "8929/8929 [==============================] - 0s 45us/sample - loss: 0.2881 - acc: 0.8829\n",
      "Epoch 12/200\n",
      "8929/8929 [==============================] - 0s 49us/sample - loss: 0.2813 - acc: 0.8841\n",
      "Epoch 13/200\n",
      "8929/8929 [==============================] - 0s 49us/sample - loss: 0.2809 - acc: 0.8844\n",
      "Epoch 14/200\n",
      "8929/8929 [==============================] - 0s 50us/sample - loss: 0.2816 - acc: 0.8845\n",
      "Epoch 15/200\n",
      "8929/8929 [==============================] - 0s 50us/sample - loss: 0.2703 - acc: 0.8907\n",
      "Epoch 16/200\n",
      "8929/8929 [==============================] - 0s 50us/sample - loss: 0.2717 - acc: 0.8880\n",
      "Epoch 17/200\n",
      "8929/8929 [==============================] - 0s 49us/sample - loss: 0.2588 - acc: 0.8923\n",
      "Epoch 18/200\n",
      "8929/8929 [==============================] - 0s 50us/sample - loss: 0.2508 - acc: 0.8988\n",
      "Epoch 19/200\n",
      "8929/8929 [==============================] - 0s 50us/sample - loss: 0.2464 - acc: 0.8995\n",
      "Epoch 20/200\n",
      "8929/8929 [==============================] - 0s 49us/sample - loss: 0.2394 - acc: 0.9020\n",
      "Epoch 21/200\n",
      "8929/8929 [==============================] - 0s 52us/sample - loss: 0.2344 - acc: 0.9044\n",
      "Epoch 22/200\n",
      "8929/8929 [==============================] - 0s 51us/sample - loss: 0.2304 - acc: 0.9059\n",
      "Epoch 23/200\n",
      "8929/8929 [==============================] - 0s 52us/sample - loss: 0.2202 - acc: 0.9078\n",
      "Epoch 24/200\n",
      "8929/8929 [==============================] - 0s 51us/sample - loss: 0.2148 - acc: 0.9100\n",
      "Epoch 25/200\n",
      "8929/8929 [==============================] - 0s 51us/sample - loss: 0.2190 - acc: 0.9083\n",
      "Epoch 26/200\n",
      "8929/8929 [==============================] - 0s 53us/sample - loss: 0.2002 - acc: 0.9158\n",
      "Epoch 27/200\n",
      "8929/8929 [==============================] - 0s 52us/sample - loss: 0.2330 - acc: 0.9060\n",
      "Epoch 28/200\n",
      "8929/8929 [==============================] - 0s 52us/sample - loss: 0.1964 - acc: 0.9176\n",
      "Epoch 29/200\n",
      "8929/8929 [==============================] - 0s 52us/sample - loss: 0.1928 - acc: 0.9187\n",
      "Epoch 30/200\n",
      "8929/8929 [==============================] - 0s 54us/sample - loss: 0.1802 - acc: 0.9244\n",
      "Epoch 31/200\n",
      "8929/8929 [==============================] - 0s 55us/sample - loss: 0.1739 - acc: 0.9271\n",
      "Epoch 32/200\n",
      "8929/8929 [==============================] - 0s 51us/sample - loss: 0.1660 - acc: 0.9289\n",
      "Epoch 33/200\n",
      "8929/8929 [==============================] - 1s 60us/sample - loss: 0.1676 - acc: 0.9289\n",
      "Epoch 34/200\n",
      "8929/8929 [==============================] - 1s 64us/sample - loss: 0.1592 - acc: 0.9330\n",
      "Epoch 35/200\n",
      "8929/8929 [==============================] - 1s 60us/sample - loss: 0.1486 - acc: 0.9377\n",
      "Epoch 36/200\n",
      "8929/8929 [==============================] - 0s 54us/sample - loss: 0.1519 - acc: 0.9359\n",
      "Epoch 37/200\n",
      "8929/8929 [==============================] - 0s 54us/sample - loss: 0.1371 - acc: 0.9413\n",
      "Epoch 38/200\n",
      "8929/8929 [==============================] - 1s 60us/sample - loss: 0.1347 - acc: 0.9431\n",
      "Epoch 39/200\n",
      "8929/8929 [==============================] - 1s 56us/sample - loss: 0.1343 - acc: 0.94390s - loss: 0.1347 - ac\n",
      "Epoch 40/200\n",
      "8929/8929 [==============================] - 0s 56us/sample - loss: 0.1298 - acc: 0.9459\n",
      "Epoch 41/200\n",
      "8929/8929 [==============================] - 0s 56us/sample - loss: 0.1401 - acc: 0.9425\n",
      "Epoch 42/200\n",
      "8929/8929 [==============================] - 1s 57us/sample - loss: 0.1250 - acc: 0.9460\n",
      "Epoch 43/200\n",
      "8929/8929 [==============================] - 1s 61us/sample - loss: 0.1138 - acc: 0.9532\n",
      "Epoch 44/200\n",
      "8929/8929 [==============================] - 1s 61us/sample - loss: 0.1091 - acc: 0.9534\n",
      "Epoch 45/200\n",
      "8929/8929 [==============================] - 1s 62us/sample - loss: 0.1206 - acc: 0.9507\n",
      "Epoch 46/200\n",
      "8929/8929 [==============================] - 1s 63us/sample - loss: 0.1152 - acc: 0.9540\n",
      "Epoch 47/200\n",
      "8929/8929 [==============================] - 1s 57us/sample - loss: 0.1012 - acc: 0.9571\n",
      "Epoch 48/200\n",
      "8929/8929 [==============================] - 0s 52us/sample - loss: 0.0978 - acc: 0.9617\n",
      "Epoch 49/200\n",
      "8929/8929 [==============================] - 0s 53us/sample - loss: 0.0974 - acc: 0.9607\n",
      "Epoch 50/200\n",
      "8929/8929 [==============================] - ETA: 0s - loss: 0.1082 - acc: 0.957 - 0s 55us/sample - loss: 0.1111 - acc: 0.9564\n",
      "Epoch 51/200\n",
      "8929/8929 [==============================] - 1s 58us/sample - loss: 0.0908 - acc: 0.9615\n",
      "Epoch 52/200\n",
      "8929/8929 [==============================] - 1s 57us/sample - loss: 0.0703 - acc: 0.9703\n",
      "Epoch 53/200\n",
      "8929/8929 [==============================] - 0s 55us/sample - loss: 0.0752 - acc: 0.9692\n",
      "Epoch 54/200\n",
      "8929/8929 [==============================] - 1s 58us/sample - loss: 0.0870 - acc: 0.9652\n",
      "Epoch 55/200\n",
      "8929/8929 [==============================] - 0s 54us/sample - loss: 0.1039 - acc: 0.9619\n",
      "Epoch 56/200\n",
      "8929/8929 [==============================] - 0s 56us/sample - loss: 0.0801 - acc: 0.9680\n",
      "Epoch 57/200\n",
      "8929/8929 [==============================] - 0s 55us/sample - loss: 0.0664 - acc: 0.9728\n",
      "Epoch 58/200\n",
      "8929/8929 [==============================] - 0s 54us/sample - loss: 0.0635 - acc: 0.9744\n",
      "Epoch 59/200\n",
      "8929/8929 [==============================] - 1s 57us/sample - loss: 0.0712 - acc: 0.9732\n",
      "Epoch 60/200\n",
      "8929/8929 [==============================] - 0s 55us/sample - loss: 0.0755 - acc: 0.9700\n",
      "Epoch 61/200\n",
      "8929/8929 [==============================] - 1s 56us/sample - loss: 0.0836 - acc: 0.9695\n",
      "Epoch 62/200\n",
      "8929/8929 [==============================] - 1s 59us/sample - loss: 0.0581 - acc: 0.9774\n",
      "Epoch 63/200\n",
      "8929/8929 [==============================] - 1s 57us/sample - loss: 0.0688 - acc: 0.9747\n",
      "Epoch 64/200\n",
      "8929/8929 [==============================] - 0s 56us/sample - loss: 0.0641 - acc: 0.9760\n",
      "Epoch 65/200\n",
      "8929/8929 [==============================] - 1s 64us/sample - loss: 0.0630 - acc: 0.9754\n",
      "Epoch 66/200\n",
      "8929/8929 [==============================] - 1s 57us/sample - loss: 0.0571 - acc: 0.9789\n",
      "Epoch 67/200\n",
      "8929/8929 [==============================] - 1s 58us/sample - loss: 0.1058 - acc: 0.9576\n",
      "Epoch 68/200\n",
      "8929/8929 [==============================] - 1s 56us/sample - loss: 0.0718 - acc: 0.9735\n",
      "Epoch 69/200\n",
      "8929/8929 [==============================] - 1s 57us/sample - loss: 0.0479 - acc: 0.9832\n",
      "Epoch 70/200\n",
      "8929/8929 [==============================] - 1s 59us/sample - loss: 0.0452 - acc: 0.9829\n",
      "Epoch 71/200\n",
      "8929/8929 [==============================] - 0s 56us/sample - loss: 0.0458 - acc: 0.9830\n",
      "Epoch 72/200\n",
      "8929/8929 [==============================] - 1s 63us/sample - loss: 0.0809 - acc: 0.9709\n",
      "Epoch 73/200\n",
      "8929/8929 [==============================] - 1s 62us/sample - loss: 0.0678 - acc: 0.9742\n",
      "Epoch 74/200\n",
      "8929/8929 [==============================] - 1s 65us/sample - loss: 0.0702 - acc: 0.9737\n",
      "Epoch 75/200\n",
      "8929/8929 [==============================] - 1s 59us/sample - loss: 0.0394 - acc: 0.9868\n",
      "Epoch 76/200\n",
      "8929/8929 [==============================] - 1s 57us/sample - loss: 0.0380 - acc: 0.9869\n",
      "Epoch 77/200\n",
      "8929/8929 [==============================] - 1s 58us/sample - loss: 0.0395 - acc: 0.9860\n",
      "Epoch 78/200\n",
      "8929/8929 [==============================] - 1s 57us/sample - loss: 0.0483 - acc: 0.9822\n",
      "Epoch 79/200\n",
      "8929/8929 [==============================] - 1s 57us/sample - loss: 0.0523 - acc: 0.9810\n",
      "Epoch 80/200\n"
     ]
    },
    {
     "name": "stdout",
     "output_type": "stream",
     "text": [
      "8929/8929 [==============================] - 0s 55us/sample - loss: 0.0487 - acc: 0.9832\n",
      "Epoch 81/200\n",
      "8929/8929 [==============================] - 0s 53us/sample - loss: 0.1040 - acc: 0.9640\n",
      "Epoch 82/200\n",
      "8929/8929 [==============================] - 0s 55us/sample - loss: 0.0532 - acc: 0.9804\n",
      "Epoch 83/200\n",
      "8929/8929 [==============================] - ETA: 0s - loss: 0.0375 - acc: 0.986 - 0s 54us/sample - loss: 0.0373 - acc: 0.9870\n",
      "Epoch 84/200\n",
      "8929/8929 [==============================] - 0s 55us/sample - loss: 0.0314 - acc: 0.9886\n",
      "Epoch 85/200\n",
      "8929/8929 [==============================] - 0s 54us/sample - loss: 0.0326 - acc: 0.9895\n",
      "Epoch 86/200\n",
      "8929/8929 [==============================] - 0s 55us/sample - loss: 0.0358 - acc: 0.9882\n",
      "Epoch 87/200\n",
      "8929/8929 [==============================] - 0s 55us/sample - loss: 0.0380 - acc: 0.9861\n",
      "Epoch 88/200\n",
      "8929/8929 [==============================] - 0s 54us/sample - loss: 0.0655 - acc: 0.9766\n",
      "Epoch 89/200\n",
      "8929/8929 [==============================] - 0s 54us/sample - loss: 0.0683 - acc: 0.9774\n",
      "Epoch 90/200\n",
      "8929/8929 [==============================] - 0s 55us/sample - loss: 0.0676 - acc: 0.9766\n",
      "Epoch 91/200\n",
      "8929/8929 [==============================] - 1s 59us/sample - loss: 0.0311 - acc: 0.9897\n",
      "Epoch 92/200\n",
      "8929/8929 [==============================] - 0s 55us/sample - loss: 0.0237 - acc: 0.9922\n",
      "Epoch 93/200\n",
      "8929/8929 [==============================] - 0s 54us/sample - loss: 0.0314 - acc: 0.9901\n",
      "Epoch 94/200\n",
      "8929/8929 [==============================] - 0s 55us/sample - loss: 0.0294 - acc: 0.9905\n",
      "Epoch 95/200\n",
      "8929/8929 [==============================] - 0s 54us/sample - loss: 0.0620 - acc: 0.9802\n",
      "Epoch 96/200\n",
      "8929/8929 [==============================] - 0s 55us/sample - loss: 0.0596 - acc: 0.9795\n",
      "Epoch 97/200\n",
      "8929/8929 [==============================] - 0s 54us/sample - loss: 0.0522 - acc: 0.9807\n",
      "Epoch 98/200\n",
      "8929/8929 [==============================] - 1s 56us/sample - loss: 0.0289 - acc: 0.9899\n",
      "Epoch 99/200\n",
      "8929/8929 [==============================] - 0s 56us/sample - loss: 0.0239 - acc: 0.9926\n",
      "Epoch 100/200\n",
      "8929/8929 [==============================] - 1s 58us/sample - loss: 0.0183 - acc: 0.9943\n",
      "Epoch 101/200\n",
      "8929/8929 [==============================] - 1s 56us/sample - loss: 0.0184 - acc: 0.9937\n",
      "Epoch 102/200\n",
      "8929/8929 [==============================] - 0s 56us/sample - loss: 0.0249 - acc: 0.9931\n",
      "Epoch 103/200\n",
      "8929/8929 [==============================] - 1s 58us/sample - loss: 0.0630 - acc: 0.9813\n",
      "Epoch 104/200\n",
      "8929/8929 [==============================] - 1s 63us/sample - loss: 0.0763 - acc: 0.9755\n",
      "Epoch 105/200\n",
      "8929/8929 [==============================] - 1s 67us/sample - loss: 0.0435 - acc: 0.9850\n",
      "Epoch 106/200\n",
      "8929/8929 [==============================] - 1s 67us/sample - loss: 0.0216 - acc: 0.9932\n",
      "Epoch 107/200\n",
      "8929/8929 [==============================] - 1s 66us/sample - loss: 0.0169 - acc: 0.9943\n",
      "Epoch 108/200\n",
      "8929/8929 [==============================] - 1s 66us/sample - loss: 0.0198 - acc: 0.9940\n",
      "Epoch 109/200\n",
      "8929/8929 [==============================] - 1s 66us/sample - loss: 0.0373 - acc: 0.9884\n",
      "Epoch 110/200\n",
      "8929/8929 [==============================] - 1s 65us/sample - loss: 0.0380 - acc: 0.9869\n",
      "Epoch 111/200\n",
      "8929/8929 [==============================] - 1s 68us/sample - loss: 0.0476 - acc: 0.9841\n",
      "Epoch 112/200\n",
      "8929/8929 [==============================] - 1s 66us/sample - loss: 0.0361 - acc: 0.9881\n",
      "Epoch 113/200\n",
      "8929/8929 [==============================] - 1s 64us/sample - loss: 0.0262 - acc: 0.9912\n",
      "Epoch 114/200\n",
      "8929/8929 [==============================] - 1s 64us/sample - loss: 0.0207 - acc: 0.9943\n",
      "Epoch 115/200\n",
      "8929/8929 [==============================] - 1s 64us/sample - loss: 0.0229 - acc: 0.9931\n",
      "Epoch 116/200\n",
      "8929/8929 [==============================] - 1s 64us/sample - loss: 0.0290 - acc: 0.9903\n",
      "Epoch 117/200\n",
      "8929/8929 [==============================] - 1s 66us/sample - loss: 0.0391 - acc: 0.9853\n",
      "Epoch 118/200\n",
      "8929/8929 [==============================] - 1s 68us/sample - loss: 0.0413 - acc: 0.9853\n",
      "Epoch 119/200\n",
      "8929/8929 [==============================] - 1s 67us/sample - loss: 0.0355 - acc: 0.9878\n",
      "Epoch 120/200\n",
      "8929/8929 [==============================] - 1s 65us/sample - loss: 0.0240 - acc: 0.9915\n",
      "Epoch 121/200\n",
      "8929/8929 [==============================] - 1s 68us/sample - loss: 0.0397 - acc: 0.9878\n",
      "Epoch 122/200\n",
      "8929/8929 [==============================] - 1s 65us/sample - loss: 0.0202 - acc: 0.9937\n",
      "Epoch 123/200\n",
      "8929/8929 [==============================] - 1s 66us/sample - loss: 0.0116 - acc: 0.9969\n",
      "Epoch 124/200\n",
      "8929/8929 [==============================] - 1s 66us/sample - loss: 0.0095 - acc: 0.9970\n",
      "Epoch 125/200\n",
      "8929/8929 [==============================] - 1s 67us/sample - loss: 0.0296 - acc: 0.9906\n",
      "Epoch 126/200\n",
      "8929/8929 [==============================] - 1s 66us/sample - loss: 0.0482 - acc: 0.9835\n",
      "Epoch 127/200\n",
      "8929/8929 [==============================] - 1s 66us/sample - loss: 0.0442 - acc: 0.9833\n",
      "Epoch 128/200\n",
      "8929/8929 [==============================] - 1s 66us/sample - loss: 0.0359 - acc: 0.9870\n",
      "Epoch 129/200\n",
      "8929/8929 [==============================] - 1s 65us/sample - loss: 0.0267 - acc: 0.9920\n",
      "Epoch 130/200\n",
      "8929/8929 [==============================] - 1s 63us/sample - loss: 0.0179 - acc: 0.9944\n",
      "Epoch 131/200\n",
      "8929/8929 [==============================] - 1s 64us/sample - loss: 0.0198 - acc: 0.9928\n",
      "Epoch 132/200\n",
      "8929/8929 [==============================] - 1s 66us/sample - loss: 0.0194 - acc: 0.9945\n",
      "Epoch 133/200\n",
      "8929/8929 [==============================] - 1s 64us/sample - loss: 0.0232 - acc: 0.9918\n",
      "Epoch 134/200\n",
      "8929/8929 [==============================] - 1s 62us/sample - loss: 0.0457 - acc: 0.9871\n",
      "Epoch 135/200\n",
      "8929/8929 [==============================] - 1s 63us/sample - loss: 0.0255 - acc: 0.9905\n",
      "Epoch 136/200\n",
      "8929/8929 [==============================] - 1s 65us/sample - loss: 0.0206 - acc: 0.9929\n",
      "Epoch 137/200\n",
      "8929/8929 [==============================] - 1s 66us/sample - loss: 0.0193 - acc: 0.9933\n",
      "Epoch 138/200\n",
      "8929/8929 [==============================] - 1s 62us/sample - loss: 0.0229 - acc: 0.9924\n",
      "Epoch 139/200\n",
      "8929/8929 [==============================] - 1s 62us/sample - loss: 0.0292 - acc: 0.9907\n",
      "Epoch 140/200\n",
      "8929/8929 [==============================] - 1s 64us/sample - loss: 0.0446 - acc: 0.9866\n",
      "Epoch 141/200\n",
      "8929/8929 [==============================] - 1s 63us/sample - loss: 0.0201 - acc: 0.9936\n",
      "Epoch 142/200\n",
      "8929/8929 [==============================] - 1s 62us/sample - loss: 0.0193 - acc: 0.9927\n",
      "Epoch 143/200\n",
      "8929/8929 [==============================] - 1s 62us/sample - loss: 0.0112 - acc: 0.9975\n",
      "Epoch 144/200\n",
      "8929/8929 [==============================] - 1s 63us/sample - loss: 0.0136 - acc: 0.9957\n",
      "Epoch 145/200\n",
      "8929/8929 [==============================] - 1s 62us/sample - loss: 0.0181 - acc: 0.9951\n",
      "Epoch 146/200\n",
      "8929/8929 [==============================] - 1s 64us/sample - loss: 0.0375 - acc: 0.9858\n",
      "Epoch 147/200\n",
      "8929/8929 [==============================] - 1s 62us/sample - loss: 0.0412 - acc: 0.9867\n",
      "Epoch 148/200\n",
      "8929/8929 [==============================] - 1s 60us/sample - loss: 0.0331 - acc: 0.9886\n",
      "Epoch 149/200\n",
      "8929/8929 [==============================] - 1s 61us/sample - loss: 0.0220 - acc: 0.9935\n",
      "Epoch 150/200\n",
      "8929/8929 [==============================] - 1s 59us/sample - loss: 0.0185 - acc: 0.9942\n",
      "Epoch 151/200\n",
      "8929/8929 [==============================] - 1s 61us/sample - loss: 0.0204 - acc: 0.9938\n",
      "Epoch 152/200\n",
      "8929/8929 [==============================] - 1s 60us/sample - loss: 0.0375 - acc: 0.9914\n",
      "Epoch 153/200\n",
      "8929/8929 [==============================] - 1s 61us/sample - loss: 0.0166 - acc: 0.9948\n",
      "Epoch 154/200\n",
      "8929/8929 [==============================] - 1s 61us/sample - loss: 0.0142 - acc: 0.9955\n",
      "Epoch 155/200\n",
      "8929/8929 [==============================] - 1s 61us/sample - loss: 0.0127 - acc: 0.9965\n",
      "Epoch 156/200\n",
      "8929/8929 [==============================] - 1s 63us/sample - loss: 0.0114 - acc: 0.9966\n",
      "Epoch 157/200\n",
      "8929/8929 [==============================] - 1s 65us/sample - loss: 0.0249 - acc: 0.9929\n",
      "Epoch 158/200\n",
      "8929/8929 [==============================] - 1s 62us/sample - loss: 0.0539 - acc: 0.9836\n",
      "Epoch 159/200\n"
     ]
    },
    {
     "name": "stdout",
     "output_type": "stream",
     "text": [
      "8929/8929 [==============================] - 1s 61us/sample - loss: 0.0431 - acc: 0.9860\n",
      "Epoch 160/200\n",
      "8929/8929 [==============================] - 1s 61us/sample - loss: 0.0450 - acc: 0.9849\n",
      "Epoch 161/200\n",
      "8929/8929 [==============================] - 1s 61us/sample - loss: 0.0130 - acc: 0.9962\n",
      "Epoch 162/200\n",
      "8929/8929 [==============================] - 1s 60us/sample - loss: 0.0065 - acc: 0.9987\n",
      "Epoch 163/200\n",
      "8929/8929 [==============================] - 1s 64us/sample - loss: 0.0057 - acc: 0.9985\n",
      "Epoch 164/200\n",
      "8929/8929 [==============================] - 1s 62us/sample - loss: 0.0065 - acc: 0.9980\n",
      "Epoch 165/200\n",
      "8929/8929 [==============================] - 1s 61us/sample - loss: 0.0084 - acc: 0.9979\n",
      "Epoch 166/200\n",
      "8929/8929 [==============================] - 1s 61us/sample - loss: 0.0068 - acc: 0.9980\n",
      "Epoch 167/200\n",
      "8929/8929 [==============================] - 1s 62us/sample - loss: 0.0372 - acc: 0.9884\n",
      "Epoch 168/200\n",
      "8929/8929 [==============================] - 1s 60us/sample - loss: 0.0475 - acc: 0.9861\n",
      "Epoch 169/200\n",
      "8929/8929 [==============================] - 1s 62us/sample - loss: 0.0430 - acc: 0.9889\n",
      "Epoch 170/200\n",
      "8929/8929 [==============================] - 1s 60us/sample - loss: 0.0208 - acc: 0.9943\n",
      "Epoch 171/200\n",
      "8929/8929 [==============================] - 1s 62us/sample - loss: 0.0174 - acc: 0.9941\n",
      "Epoch 172/200\n",
      "8929/8929 [==============================] - 1s 61us/sample - loss: 0.0222 - acc: 0.9931\n",
      "Epoch 173/200\n",
      "8929/8929 [==============================] - 1s 60us/sample - loss: 0.0238 - acc: 0.9924\n",
      "Epoch 174/200\n",
      "8929/8929 [==============================] - 1s 61us/sample - loss: 0.0131 - acc: 0.9959\n",
      "Epoch 175/200\n",
      "8929/8929 [==============================] - 1s 61us/sample - loss: 0.0086 - acc: 0.9982\n",
      "Epoch 176/200\n",
      "8929/8929 [==============================] - 1s 64us/sample - loss: 0.0062 - acc: 0.9980\n",
      "Epoch 177/200\n",
      "8929/8929 [==============================] - 1s 60us/sample - loss: 0.0066 - acc: 0.9983\n",
      "Epoch 178/200\n",
      "8929/8929 [==============================] - 1s 62us/sample - loss: 0.0099 - acc: 0.9970\n",
      "Epoch 179/200\n",
      "8929/8929 [==============================] - 1s 62us/sample - loss: 0.0147 - acc: 0.9952\n",
      "Epoch 180/200\n",
      "8929/8929 [==============================] - 1s 61us/sample - loss: 0.0653 - acc: 0.9810\n",
      "Epoch 181/200\n",
      "8929/8929 [==============================] - 1s 61us/sample - loss: 0.0412 - acc: 0.9875\n",
      "Epoch 182/200\n",
      "8929/8929 [==============================] - 1s 61us/sample - loss: 0.0159 - acc: 0.9954\n",
      "Epoch 183/200\n",
      "8929/8929 [==============================] - 1s 61us/sample - loss: 0.0117 - acc: 0.9976\n",
      "Epoch 184/200\n",
      "8929/8929 [==============================] - 1s 60us/sample - loss: 0.0064 - acc: 0.9987\n",
      "Epoch 185/200\n",
      "8929/8929 [==============================] - 1s 68us/sample - loss: 0.0077 - acc: 0.9979\n",
      "Epoch 186/200\n",
      "8929/8929 [==============================] - 1s 61us/sample - loss: 0.0172 - acc: 0.9948\n",
      "Epoch 187/200\n",
      "8929/8929 [==============================] - 1s 64us/sample - loss: 0.0393 - acc: 0.9910\n",
      "Epoch 188/200\n",
      "8929/8929 [==============================] - 1s 62us/sample - loss: 0.0563 - acc: 0.9825\n",
      "Epoch 189/200\n",
      "8929/8929 [==============================] - 1s 60us/sample - loss: 0.0167 - acc: 0.9956\n",
      "Epoch 190/200\n",
      "8929/8929 [==============================] - 1s 62us/sample - loss: 0.0090 - acc: 0.9972\n",
      "Epoch 191/200\n",
      "8929/8929 [==============================] - 1s 61us/sample - loss: 0.0049 - acc: 0.9989\n",
      "Epoch 192/200\n",
      "8929/8929 [==============================] - 1s 61us/sample - loss: 0.0062 - acc: 0.9984\n",
      "Epoch 193/200\n",
      "8929/8929 [==============================] - 1s 61us/sample - loss: 0.0055 - acc: 0.9982\n",
      "Epoch 194/200\n",
      "8929/8929 [==============================] - 1s 61us/sample - loss: 0.0138 - acc: 0.9952\n",
      "Epoch 195/200\n",
      "8929/8929 [==============================] - 1s 60us/sample - loss: 0.0481 - acc: 0.9871\n",
      "Epoch 196/200\n",
      "8929/8929 [==============================] - 1s 64us/sample - loss: 0.0312 - acc: 0.9905\n",
      "Epoch 197/200\n",
      "8929/8929 [==============================] - 1s 62us/sample - loss: 0.0186 - acc: 0.9942\n",
      "Epoch 198/200\n",
      "8929/8929 [==============================] - 1s 65us/sample - loss: 0.0139 - acc: 0.9963\n",
      "Epoch 199/200\n",
      "8929/8929 [==============================] - 1s 62us/sample - loss: 0.0090 - acc: 0.9974\n",
      "Epoch 200/200\n",
      "8929/8929 [==============================] - 1s 62us/sample - loss: 0.0055 - acc: 0.9984\n"
     ]
    },
    {
     "data": {
      "text/plain": [
       "<tensorflow.python.keras.callbacks.History at 0x201531f49e8>"
      ]
     },
     "execution_count": 24,
     "metadata": {},
     "output_type": "execute_result"
    }
   ],
   "source": [
    "bank.fit(i_train,o_train, epochs = 200)"
   ]
  },
  {
   "cell_type": "code",
   "execution_count": 25,
   "metadata": {},
   "outputs": [],
   "source": [
    "ypred = bank.predict(i_test)"
   ]
  },
  {
   "cell_type": "code",
   "execution_count": 26,
   "metadata": {},
   "outputs": [
    {
     "data": {
      "text/plain": [
       "array([[1.00000000e+00, 6.88622270e-09],\n",
       "       [2.09762198e-27, 1.00000000e+00],\n",
       "       [1.00000000e+00, 6.51449051e-34],\n",
       "       ...,\n",
       "       [9.27596867e-01, 7.24031180e-02],\n",
       "       [1.00000000e+00, 1.19170455e-11],\n",
       "       [9.99874115e-01, 1.25894978e-04]], dtype=float32)"
      ]
     },
     "execution_count": 26,
     "metadata": {},
     "output_type": "execute_result"
    }
   ],
   "source": [
    "ypred"
   ]
  },
  {
   "cell_type": "code",
   "execution_count": 27,
   "metadata": {},
   "outputs": [
    {
     "data": {
      "text/plain": [
       "array([[1., 0.],\n",
       "       [0., 1.],\n",
       "       [1., 0.],\n",
       "       ...,\n",
       "       [0., 1.],\n",
       "       [0., 1.],\n",
       "       [1., 0.]])"
      ]
     },
     "execution_count": 27,
     "metadata": {},
     "output_type": "execute_result"
    }
   ],
   "source": [
    "o_test"
   ]
  },
  {
   "cell_type": "code",
   "execution_count": 28,
   "metadata": {},
   "outputs": [
    {
     "data": {
      "text/html": [
       "<div>\n",
       "<style scoped>\n",
       "    .dataframe tbody tr th:only-of-type {\n",
       "        vertical-align: middle;\n",
       "    }\n",
       "\n",
       "    .dataframe tbody tr th {\n",
       "        vertical-align: top;\n",
       "    }\n",
       "\n",
       "    .dataframe thead th {\n",
       "        text-align: right;\n",
       "    }\n",
       "</style>\n",
       "<table border=\"1\" class=\"dataframe\">\n",
       "  <thead>\n",
       "    <tr style=\"text-align: right;\">\n",
       "      <th></th>\n",
       "      <th>age</th>\n",
       "      <th>job</th>\n",
       "      <th>marital</th>\n",
       "      <th>education</th>\n",
       "      <th>default</th>\n",
       "      <th>balance</th>\n",
       "      <th>housing</th>\n",
       "      <th>loan</th>\n",
       "      <th>contact</th>\n",
       "      <th>day</th>\n",
       "      <th>month</th>\n",
       "      <th>duration</th>\n",
       "      <th>campaign</th>\n",
       "      <th>pdays</th>\n",
       "      <th>previous</th>\n",
       "      <th>poutcome</th>\n",
       "      <th>deposit</th>\n",
       "    </tr>\n",
       "  </thead>\n",
       "  <tbody>\n",
       "    <tr>\n",
       "      <th>0</th>\n",
       "      <td>59</td>\n",
       "      <td>admin.</td>\n",
       "      <td>married</td>\n",
       "      <td>secondary</td>\n",
       "      <td>no</td>\n",
       "      <td>2343</td>\n",
       "      <td>yes</td>\n",
       "      <td>no</td>\n",
       "      <td>unknown</td>\n",
       "      <td>5</td>\n",
       "      <td>may</td>\n",
       "      <td>1042</td>\n",
       "      <td>1</td>\n",
       "      <td>-1</td>\n",
       "      <td>0</td>\n",
       "      <td>unknown</td>\n",
       "      <td>yes</td>\n",
       "    </tr>\n",
       "    <tr>\n",
       "      <th>1</th>\n",
       "      <td>56</td>\n",
       "      <td>admin.</td>\n",
       "      <td>married</td>\n",
       "      <td>secondary</td>\n",
       "      <td>no</td>\n",
       "      <td>45</td>\n",
       "      <td>no</td>\n",
       "      <td>no</td>\n",
       "      <td>unknown</td>\n",
       "      <td>5</td>\n",
       "      <td>may</td>\n",
       "      <td>1467</td>\n",
       "      <td>1</td>\n",
       "      <td>-1</td>\n",
       "      <td>0</td>\n",
       "      <td>unknown</td>\n",
       "      <td>yes</td>\n",
       "    </tr>\n",
       "    <tr>\n",
       "      <th>2</th>\n",
       "      <td>41</td>\n",
       "      <td>technician</td>\n",
       "      <td>married</td>\n",
       "      <td>secondary</td>\n",
       "      <td>no</td>\n",
       "      <td>1270</td>\n",
       "      <td>yes</td>\n",
       "      <td>no</td>\n",
       "      <td>unknown</td>\n",
       "      <td>5</td>\n",
       "      <td>may</td>\n",
       "      <td>1389</td>\n",
       "      <td>1</td>\n",
       "      <td>-1</td>\n",
       "      <td>0</td>\n",
       "      <td>unknown</td>\n",
       "      <td>yes</td>\n",
       "    </tr>\n",
       "    <tr>\n",
       "      <th>3</th>\n",
       "      <td>55</td>\n",
       "      <td>services</td>\n",
       "      <td>married</td>\n",
       "      <td>secondary</td>\n",
       "      <td>no</td>\n",
       "      <td>2476</td>\n",
       "      <td>yes</td>\n",
       "      <td>no</td>\n",
       "      <td>unknown</td>\n",
       "      <td>5</td>\n",
       "      <td>may</td>\n",
       "      <td>579</td>\n",
       "      <td>1</td>\n",
       "      <td>-1</td>\n",
       "      <td>0</td>\n",
       "      <td>unknown</td>\n",
       "      <td>yes</td>\n",
       "    </tr>\n",
       "    <tr>\n",
       "      <th>4</th>\n",
       "      <td>54</td>\n",
       "      <td>admin.</td>\n",
       "      <td>married</td>\n",
       "      <td>tertiary</td>\n",
       "      <td>no</td>\n",
       "      <td>184</td>\n",
       "      <td>no</td>\n",
       "      <td>no</td>\n",
       "      <td>unknown</td>\n",
       "      <td>5</td>\n",
       "      <td>may</td>\n",
       "      <td>673</td>\n",
       "      <td>2</td>\n",
       "      <td>-1</td>\n",
       "      <td>0</td>\n",
       "      <td>unknown</td>\n",
       "      <td>yes</td>\n",
       "    </tr>\n",
       "  </tbody>\n",
       "</table>\n",
       "</div>"
      ],
      "text/plain": [
       "   age         job  marital  education default  balance housing loan  contact  \\\n",
       "0   59      admin.  married  secondary      no     2343     yes   no  unknown   \n",
       "1   56      admin.  married  secondary      no       45      no   no  unknown   \n",
       "2   41  technician  married  secondary      no     1270     yes   no  unknown   \n",
       "3   55    services  married  secondary      no     2476     yes   no  unknown   \n",
       "4   54      admin.  married   tertiary      no      184      no   no  unknown   \n",
       "\n",
       "   day month  duration  campaign  pdays  previous poutcome deposit  \n",
       "0    5   may      1042         1     -1         0  unknown     yes  \n",
       "1    5   may      1467         1     -1         0  unknown     yes  \n",
       "2    5   may      1389         1     -1         0  unknown     yes  \n",
       "3    5   may       579         1     -1         0  unknown     yes  \n",
       "4    5   may       673         2     -1         0  unknown     yes  "
      ]
     },
     "execution_count": 28,
     "metadata": {},
     "output_type": "execute_result"
    }
   ],
   "source": [
    "dataset.head()"
   ]
  },
  {
   "cell_type": "code",
   "execution_count": 33,
   "metadata": {},
   "outputs": [],
   "source": [
    "yp = bank.predict(s.transform(ct.transform([[41,\"technician\",\"married\",\"secondary\",\"no\",1270,\"yes\",\"no\",\"unknown\",5,\"may\",1389,1,-1,0,\"unknown\"]])))"
   ]
  },
  {
   "cell_type": "code",
   "execution_count": 34,
   "metadata": {},
   "outputs": [],
   "source": [
    "deposit = [\"No\", \"Yes\"]\n",
    "p = deposit[np.argmax(yp)]"
   ]
  },
  {
   "cell_type": "code",
   "execution_count": 35,
   "metadata": {},
   "outputs": [
    {
     "data": {
      "text/plain": [
       "'Yes'"
      ]
     },
     "execution_count": 35,
     "metadata": {},
     "output_type": "execute_result"
    }
   ],
   "source": [
    "p"
   ]
  },
  {
   "cell_type": "code",
   "execution_count": null,
   "metadata": {},
   "outputs": [],
   "source": []
  }
 ],
 "metadata": {
  "kernelspec": {
   "display_name": "Python 3",
   "language": "python",
   "name": "python3"
  },
  "language_info": {
   "codemirror_mode": {
    "name": "ipython",
    "version": 3
   },
   "file_extension": ".py",
   "mimetype": "text/x-python",
   "name": "python",
   "nbconvert_exporter": "python",
   "pygments_lexer": "ipython3",
   "version": "3.7.3"
  }
 },
 "nbformat": 4,
 "nbformat_minor": 5
}
