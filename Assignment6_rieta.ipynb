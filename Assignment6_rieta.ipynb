{
 "cells": [
  {
   "cell_type": "code",
   "execution_count": 1,
   "metadata": {},
   "outputs": [],
   "source": [
    "from tensorflow.keras.models import Sequential\n",
    "from tensorflow.keras.layers import Dense, Convolution2D,MaxPooling2D,Flatten"
   ]
  },
  {
   "cell_type": "code",
   "execution_count": 2,
   "metadata": {},
   "outputs": [],
   "source": [
    "from tensorflow.keras.preprocessing.image import ImageDataGenerator"
   ]
  },
  {
   "cell_type": "code",
   "execution_count": 3,
   "metadata": {},
   "outputs": [],
   "source": [
    "train_datagen = ImageDataGenerator(rescale = 1./255,shear_range = 0.2,zoom_range = 0.2 , horizontal_flip = True)\n",
    "test_datagen = ImageDataGenerator(rescale = 1./255)"
   ]
  },
  {
   "cell_type": "code",
   "execution_count": 31,
   "metadata": {},
   "outputs": [
    {
     "name": "stdout",
     "output_type": "stream",
     "text": [
      "Found 237 images belonging to 4 classes.\n",
      "Found 212 images belonging to 4 classes.\n"
     ]
    }
   ],
   "source": [
    "x_train = train_datagen.flow_from_directory(r\"C:\\externship_labs\\cnn_pics\\trainset\",target_size = (64,64),batch_size = 32, class_mode = \"categorical\")\n",
    "x_test = test_datagen.flow_from_directory(r\"C:\\externship_labs\\cnn_pics\\testset\",target_size = (64,64),batch_size = 32, class_mode = \"categorical\")"
   ]
  },
  {
   "cell_type": "code",
   "execution_count": 20,
   "metadata": {},
   "outputs": [],
   "source": [
    "pic = Sequential()"
   ]
  },
  {
   "cell_type": "code",
   "execution_count": 21,
   "metadata": {},
   "outputs": [],
   "source": [
    "pic.add(Convolution2D(32,(3,3),input_shape= (64,64,3)))"
   ]
  },
  {
   "cell_type": "code",
   "execution_count": 22,
   "metadata": {},
   "outputs": [],
   "source": [
    "pic.add(MaxPooling2D((2,2)))"
   ]
  },
  {
   "cell_type": "code",
   "execution_count": 23,
   "metadata": {},
   "outputs": [],
   "source": [
    "pic.add(Flatten())"
   ]
  },
  {
   "cell_type": "code",
   "execution_count": 24,
   "metadata": {},
   "outputs": [],
   "source": [
    "pic.add(Dense(units =128 ,kernel_initializer = \"random_uniform\",activation = \"relu\"))"
   ]
  },
  {
   "cell_type": "code",
   "execution_count": 33,
   "metadata": {},
   "outputs": [],
   "source": [
    "pic.add(Dense(units = 4  ,kernel_initializer = \"random_uniform\",activation = \"softmax\"))"
   ]
  },
  {
   "cell_type": "code",
   "execution_count": 34,
   "metadata": {},
   "outputs": [],
   "source": [
    "pic.compile(optimizer = \"rmsprop\",loss = \"categorical_crossentropy\", metrics = [\"accuracy\"])"
   ]
  },
  {
   "cell_type": "code",
   "execution_count": 38,
   "metadata": {},
   "outputs": [
    {
     "name": "stdout",
     "output_type": "stream",
     "text": [
      "Epoch 1/65\n",
      "8/7 [================================] - 12s 1s/step - loss: 0.6993 - acc: 0.9283 - val_loss: 0.7322 - val_acc: 0.9340\n",
      "Epoch 2/65\n",
      "8/7 [================================] - 7s 884ms/step - loss: 0.6762 - acc: 0.9325 - val_loss: 0.7161 - val_acc: 0.9340\n",
      "Epoch 3/65\n",
      "8/7 [================================] - 7s 918ms/step - loss: 0.7098 - acc: 0.8903 - val_loss: 0.7457 - val_acc: 0.9104\n",
      "Epoch 4/65\n",
      "8/7 [================================] - 8s 943ms/step - loss: 0.6558 - acc: 0.9367 - val_loss: 0.7166 - val_acc: 0.9387\n",
      "Epoch 5/65\n",
      "8/7 [================================] - 7s 904ms/step - loss: 0.6660 - acc: 0.9451 - val_loss: 0.7036 - val_acc: 0.9387\n",
      "Epoch 6/65\n",
      "8/7 [================================] - 7s 902ms/step - loss: 0.6559 - acc: 0.9325 - val_loss: 0.7102 - val_acc: 0.9340\n",
      "Epoch 7/65\n",
      "8/7 [================================] - 7s 877ms/step - loss: 0.6780 - acc: 0.9156 - val_loss: 0.6915 - val_acc: 0.9387\n",
      "Epoch 8/65\n",
      "8/7 [================================] - 7s 931ms/step - loss: 0.6365 - acc: 0.9367 - val_loss: 0.6846 - val_acc: 0.9387\n",
      "Epoch 9/65\n",
      "8/7 [================================] - 7s 905ms/step - loss: 0.6398 - acc: 0.9241 - val_loss: 0.6939 - val_acc: 0.9292\n",
      "Epoch 10/65\n",
      "8/7 [================================] - 7s 866ms/step - loss: 0.6366 - acc: 0.9409 - val_loss: 0.6743 - val_acc: 0.9340\n",
      "Epoch 11/65\n",
      "8/7 [================================] - 7s 892ms/step - loss: 0.6239 - acc: 0.9451 - val_loss: 0.6730 - val_acc: 0.9340\n",
      "Epoch 12/65\n",
      "8/7 [================================] - 7s 874ms/step - loss: 0.6366 - acc: 0.9325 - val_loss: 0.7776 - val_acc: 0.8585\n",
      "Epoch 13/65\n",
      "8/7 [================================] - 7s 857ms/step - loss: 0.6610 - acc: 0.9156 - val_loss: 0.6620 - val_acc: 0.9292\n",
      "Epoch 14/65\n",
      "8/7 [================================] - 7s 896ms/step - loss: 0.5898 - acc: 0.9451 - val_loss: 0.6717 - val_acc: 0.9245\n",
      "Epoch 15/65\n",
      "8/7 [================================] - 7s 889ms/step - loss: 0.5991 - acc: 0.9367 - val_loss: 0.6455 - val_acc: 0.9387\n",
      "Epoch 16/65\n",
      "8/7 [================================] - 8s 946ms/step - loss: 0.5849 - acc: 0.9409 - val_loss: 0.6375 - val_acc: 0.9292\n",
      "Epoch 17/65\n",
      "8/7 [================================] - 7s 860ms/step - loss: 0.5838 - acc: 0.9451 - val_loss: 0.6248 - val_acc: 0.9387\n",
      "Epoch 18/65\n",
      "8/7 [================================] - 7s 892ms/step - loss: 0.5748 - acc: 0.9451 - val_loss: 0.6255 - val_acc: 0.9340\n",
      "Epoch 19/65\n",
      "8/7 [================================] - 7s 913ms/step - loss: 0.5880 - acc: 0.9283 - val_loss: 0.6255 - val_acc: 0.9292\n",
      "Epoch 20/65\n",
      "8/7 [================================] - 7s 894ms/step - loss: 0.6087 - acc: 0.9283 - val_loss: 0.6180 - val_acc: 0.9387\n",
      "Epoch 21/65\n",
      "8/7 [================================] - 7s 906ms/step - loss: 0.5832 - acc: 0.9409 - val_loss: 0.6129 - val_acc: 0.9387\n",
      "Epoch 22/65\n",
      "8/7 [================================] - 7s 873ms/step - loss: 0.6001 - acc: 0.9198 - val_loss: 0.6028 - val_acc: 0.9387\n",
      "Epoch 23/65\n",
      "8/7 [================================] - 8s 962ms/step - loss: 0.5702 - acc: 0.9325 - val_loss: 0.6668 - val_acc: 0.8915\n",
      "Epoch 24/65\n",
      "8/7 [================================] - 8s 949ms/step - loss: 0.5776 - acc: 0.9367 - val_loss: 0.6043 - val_acc: 0.9387\n",
      "Epoch 25/65\n",
      "8/7 [================================] - 7s 912ms/step - loss: 0.5605 - acc: 0.9409 - val_loss: 0.5892 - val_acc: 0.9387\n",
      "Epoch 26/65\n",
      "8/7 [================================] - 7s 915ms/step - loss: 0.5464 - acc: 0.9451 - val_loss: 0.5840 - val_acc: 0.9387\n",
      "Epoch 27/65\n",
      "8/7 [================================] - 7s 851ms/step - loss: 0.5292 - acc: 0.9451 - val_loss: 0.5787 - val_acc: 0.9387\n",
      "Epoch 28/65\n",
      "8/7 [================================] - 8s 958ms/step - loss: 0.5738 - acc: 0.9198 - val_loss: 0.5761 - val_acc: 0.9340\n",
      "Epoch 29/65\n",
      "8/7 [================================] - 7s 888ms/step - loss: 0.5326 - acc: 0.9409 - val_loss: 0.5708 - val_acc: 0.9387\n",
      "Epoch 30/65\n",
      "8/7 [================================] - 9s 1s/step - loss: 0.5296 - acc: 0.9451 - val_loss: 0.5629 - val_acc: 0.9387\n",
      "Epoch 31/65\n",
      "8/7 [================================] - 9s 1s/step - loss: 0.5390 - acc: 0.9409 - val_loss: 0.5587 - val_acc: 0.9387\n",
      "Epoch 32/65\n",
      "8/7 [================================] - 9s 1s/step - loss: 0.5146 - acc: 0.9451 - val_loss: 0.5725 - val_acc: 0.9292\n",
      "Epoch 33/65\n",
      "8/7 [================================] - 10s 1s/step - loss: 0.5105 - acc: 0.9409 - val_loss: 0.5722 - val_acc: 0.9387\n",
      "Epoch 34/65\n",
      "8/7 [================================] - 9s 1s/step - loss: 0.5253 - acc: 0.9451 - val_loss: 0.5681 - val_acc: 0.9387\n",
      "Epoch 35/65\n",
      "8/7 [================================] - 8s 1s/step - loss: 0.5132 - acc: 0.9451 - val_loss: 0.5628 - val_acc: 0.9387\n",
      "Epoch 36/65\n",
      "8/7 [================================] - 8s 1s/step - loss: 0.5181 - acc: 0.9325 - val_loss: 0.5811 - val_acc: 0.9245\n",
      "Epoch 37/65\n",
      "8/7 [================================] - 9s 1s/step - loss: 0.4977 - acc: 0.9367 - val_loss: 0.5522 - val_acc: 0.9387\n",
      "Epoch 38/65\n",
      "8/7 [================================] - 9s 1s/step - loss: 0.5006 - acc: 0.9451 - val_loss: 0.5477 - val_acc: 0.9387\n",
      "Epoch 39/65\n",
      "8/7 [================================] - 10s 1s/step - loss: 0.5114 - acc: 0.9367 - val_loss: 0.5476 - val_acc: 0.9387\n",
      "Epoch 40/65\n",
      "8/7 [================================] - 9s 1s/step - loss: 0.4937 - acc: 0.9451 - val_loss: 0.5394 - val_acc: 0.9387\n",
      "Epoch 41/65\n",
      "8/7 [================================] - 9s 1s/step - loss: 0.4723 - acc: 0.9451 - val_loss: 0.5334 - val_acc: 0.9387\n",
      "Epoch 42/65\n",
      "8/7 [================================] - 10s 1s/step - loss: 0.4691 - acc: 0.9451 - val_loss: 0.5528 - val_acc: 0.9245\n",
      "Epoch 43/65\n",
      "8/7 [================================] - 8s 1s/step - loss: 0.4699 - acc: 0.9451 - val_loss: 0.5241 - val_acc: 0.9387\n",
      "Epoch 44/65\n",
      "8/7 [================================] - 9s 1s/step - loss: 0.4717 - acc: 0.9451 - val_loss: 0.5228 - val_acc: 0.9387\n",
      "Epoch 45/65\n",
      "8/7 [================================] - 9s 1s/step - loss: 0.4593 - acc: 0.9451 - val_loss: 0.5226 - val_acc: 0.9387\n",
      "Epoch 46/65\n",
      "8/7 [================================] - 10s 1s/step - loss: 0.4674 - acc: 0.9409 - val_loss: 0.5173 - val_acc: 0.9387\n",
      "Epoch 47/65\n",
      "8/7 [================================] - 8s 983ms/step - loss: 0.4640 - acc: 0.9367 - val_loss: 0.5126 - val_acc: 0.9387\n",
      "Epoch 48/65\n",
      "8/7 [================================] - 8s 952ms/step - loss: 0.4470 - acc: 0.9451 - val_loss: 0.5077 - val_acc: 0.9387\n",
      "Epoch 49/65\n",
      "8/7 [================================] - 7s 906ms/step - loss: 0.4484 - acc: 0.9451 - val_loss: 0.5039 - val_acc: 0.9387\n",
      "Epoch 50/65\n",
      "8/7 [================================] - 8s 953ms/step - loss: 0.4436 - acc: 0.9451 - val_loss: 0.5003 - val_acc: 0.9387\n",
      "Epoch 51/65\n",
      "8/7 [================================] - 7s 902ms/step - loss: 0.4310 - acc: 0.9451 - val_loss: 0.4967 - val_acc: 0.9387\n",
      "Epoch 52/65\n",
      "8/7 [================================] - 7s 900ms/step - loss: 0.4388 - acc: 0.9451 - val_loss: 0.4931 - val_acc: 0.9387\n",
      "Epoch 53/65\n",
      "8/7 [================================] - 7s 918ms/step - loss: 0.4215 - acc: 0.9451 - val_loss: 0.4896 - val_acc: 0.9387\n",
      "Epoch 54/65\n",
      "8/7 [================================] - 7s 916ms/step - loss: 0.4553 - acc: 0.9241 - val_loss: 0.4866 - val_acc: 0.9387\n",
      "Epoch 55/65\n",
      "8/7 [================================] - 7s 866ms/step - loss: 0.4160 - acc: 0.9451 - val_loss: 0.4830 - val_acc: 0.9387\n",
      "Epoch 56/65\n",
      "8/7 [================================] - 7s 918ms/step - loss: 0.4283 - acc: 0.9367 - val_loss: 0.4796 - val_acc: 0.9387\n",
      "Epoch 57/65\n",
      "8/7 [================================] - 7s 859ms/step - loss: 0.4135 - acc: 0.9451 - val_loss: 0.4762 - val_acc: 0.9387\n",
      "Epoch 58/65\n",
      "8/7 [================================] - 7s 909ms/step - loss: 0.4315 - acc: 0.9325 - val_loss: 0.4485 - val_acc: 0.9387\n",
      "Epoch 59/65\n",
      "8/7 [================================] - 7s 884ms/step - loss: 0.4061 - acc: 0.9451 - val_loss: 0.4451 - val_acc: 0.9387\n",
      "Epoch 60/65\n",
      "8/7 [================================] - 7s 910ms/step - loss: 0.4188 - acc: 0.9451 - val_loss: 0.4416 - val_acc: 0.9387\n",
      "Epoch 61/65\n",
      "8/7 [================================] - 7s 897ms/step - loss: 0.4109 - acc: 0.9451 - val_loss: 0.4382 - val_acc: 0.9387\n",
      "Epoch 62/65\n",
      "8/7 [================================] - 7s 876ms/step - loss: 0.4212 - acc: 0.9409 - val_loss: 0.5010 - val_acc: 0.9151\n",
      "Epoch 63/65\n"
     ]
    },
    {
     "name": "stdout",
     "output_type": "stream",
     "text": [
      "8/7 [================================] - 7s 924ms/step - loss: 0.3996 - acc: 0.9409 - val_loss: 0.4502 - val_acc: 0.9387\n",
      "Epoch 64/65\n",
      "8/7 [================================] - 8s 944ms/step - loss: 0.4722 - acc: 0.9156 - val_loss: 0.4376 - val_acc: 0.9340\n",
      "Epoch 65/65\n",
      "8/7 [================================] - 9s 1s/step - loss: 0.3901 - acc: 0.9451 - val_loss: 0.4209 - val_acc: 0.9387\n"
     ]
    },
    {
     "data": {
      "text/plain": [
       "<tensorflow.python.keras.callbacks.History at 0x1d254412438>"
      ]
     },
     "execution_count": 38,
     "metadata": {},
     "output_type": "execute_result"
    }
   ],
   "source": [
    "pic.fit_generator(x_train , steps_per_epoch = 237/32 , epochs = 65, validation_data = x_test , validation_steps = 212/32 )"
   ]
  },
  {
   "cell_type": "code",
   "execution_count": 40,
   "metadata": {},
   "outputs": [],
   "source": [
    "pic.save(\"cnn_pics.h5\")"
   ]
  },
  {
   "cell_type": "markdown",
   "metadata": {},
   "source": [
    "# Testing"
   ]
  },
  {
   "cell_type": "code",
   "execution_count": 47,
   "metadata": {},
   "outputs": [],
   "source": [
    "from tensorflow.keras.models import load_model\n",
    "from tensorflow.keras.preprocessing import image\n",
    "import numpy as np"
   ]
  },
  {
   "cell_type": "code",
   "execution_count": 48,
   "metadata": {},
   "outputs": [],
   "source": [
    "model = load_model(\"cnn_pics.h5\")"
   ]
  },
  {
   "cell_type": "code",
   "execution_count": 79,
   "metadata": {},
   "outputs": [],
   "source": [
    "img = image.load_img(r\"C:\\externship_labs\\car.jpg\", target_size = (64,64))"
   ]
  },
  {
   "cell_type": "code",
   "execution_count": 70,
   "metadata": {},
   "outputs": [
    {
     "data": {
      "text/plain": [
       "PIL.Image.Image"
      ]
     },
     "execution_count": 70,
     "metadata": {},
     "output_type": "execute_result"
    }
   ],
   "source": [
    "type(img)"
   ]
  },
  {
   "cell_type": "code",
   "execution_count": 71,
   "metadata": {},
   "outputs": [],
   "source": [
    "x = image.img_to_array(img)"
   ]
  },
  {
   "cell_type": "code",
   "execution_count": 72,
   "metadata": {},
   "outputs": [
    {
     "data": {
      "text/plain": [
       "(64, 64, 3)"
      ]
     },
     "execution_count": 72,
     "metadata": {},
     "output_type": "execute_result"
    }
   ],
   "source": [
    "x.shape"
   ]
  },
  {
   "cell_type": "code",
   "execution_count": 73,
   "metadata": {},
   "outputs": [],
   "source": [
    "x = np.expand_dims(x, axis = 0)"
   ]
  },
  {
   "cell_type": "code",
   "execution_count": 74,
   "metadata": {},
   "outputs": [
    {
     "data": {
      "text/plain": [
       "(1, 64, 64, 3)"
      ]
     },
     "execution_count": 74,
     "metadata": {},
     "output_type": "execute_result"
    }
   ],
   "source": [
    "x.shape"
   ]
  },
  {
   "cell_type": "code",
   "execution_count": 75,
   "metadata": {},
   "outputs": [],
   "source": [
    "pred = model.predict(x)"
   ]
  },
  {
   "cell_type": "code",
   "execution_count": 76,
   "metadata": {},
   "outputs": [
    {
     "data": {
      "text/plain": [
       "array([[0.12497967, 0.57896084, 0.16917975, 0.12687975]], dtype=float32)"
      ]
     },
     "execution_count": 76,
     "metadata": {},
     "output_type": "execute_result"
    }
   ],
   "source": [
    "pred"
   ]
  },
  {
   "cell_type": "code",
   "execution_count": 77,
   "metadata": {},
   "outputs": [],
   "source": [
    "index = [\"birds\",\"car\",\"nature\",\"paintings\"]\n",
    "prediction = index[np.argmax(pred)]"
   ]
  },
  {
   "cell_type": "code",
   "execution_count": 78,
   "metadata": {},
   "outputs": [
    {
     "data": {
      "text/plain": [
       "'car'"
      ]
     },
     "execution_count": 78,
     "metadata": {},
     "output_type": "execute_result"
    }
   ],
   "source": [
    "prediction"
   ]
  },
  {
   "cell_type": "code",
   "execution_count": null,
   "metadata": {},
   "outputs": [],
   "source": []
  }
 ],
 "metadata": {
  "kernelspec": {
   "display_name": "Python 3",
   "language": "python",
   "name": "python3"
  },
  "language_info": {
   "codemirror_mode": {
    "name": "ipython",
    "version": 3
   },
   "file_extension": ".py",
   "mimetype": "text/x-python",
   "name": "python",
   "nbconvert_exporter": "python",
   "pygments_lexer": "ipython3",
   "version": "3.7.3"
  }
 },
 "nbformat": 4,
 "nbformat_minor": 2
}
